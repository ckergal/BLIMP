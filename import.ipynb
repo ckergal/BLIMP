{
 "cells": [
  {
   "cell_type": "markdown",
   "id": "617192f3",
   "metadata": {},
   "source": [
    "# Import prediction models\n",
    "\n"
   ]
  },
  {
   "cell_type": "markdown",
   "id": "d45df503",
   "metadata": {},
   "source": [
    "Prediction models files are too big to be on Github. You can find them here :"
   ]
  },
  {
   "cell_type": "code",
   "execution_count": 6,
   "id": "fe012fe7",
   "metadata": {},
   "outputs": [
    {
     "name": "stderr",
     "output_type": "stream",
     "text": [
      "  % Total    % Received % Xferd  Average Speed   Time    Time     Time  Current\n",
      "                                 Dload  Upload   Total   Spent    Left  Speed\n",
      "  0     0    0     0    0     0      0      0 --:--:-- --:--:-- --:--:--     0Warning: Failed to create the file BLIMP/input_data/cf4_pred_model.h5: No such \n",
      "Warning: file or directory\n",
      "  0 2943M    0  1388    0     0   2123      0  16d 19h --:--:--  16d 19h  2148\n",
      "curl: (23) Failure writing output to destination\n",
      "  % Total    % Received % Xferd  Average Speed   Time    Time     Time  Current\n",
      "                                 Dload  Upload   Total   Spent    Left  Speed\n",
      "  0     0    0     0    0     0      0      0 --:--:-- --:--:-- --:--:--     0Warning: Failed to create the file BLIMP/input_data/cf4_pred_model.h5: No such \n",
      "Warning: file or directory\n",
      "  0 2943M    0  1388    0     0   6593      0   5d 10h --:--:--   5d 10h  7081\n",
      "curl: (23) Failure writing output to destination\n"
     ]
    }
   ],
   "source": [
    "import os, subprocess\n",
    "\n",
    "if not os.path.isfile('BLIMP/input_data/cf4_pred_model.h5'):\n",
    "    subprocess.call('curl -o BLIMP/input_data/cf4_pred_model.h5 https://storage.googleapis.com/basenji_tutorial_data/hg19.ml.fa', shell=True)\n",
    "\n",
    "if not os.path.isfile('BLIMP/input_data/cf4_pred_model.h5'):\n",
    "    subprocess.call('curl -o BLIMP/input_data/cf4_pred_model.h5 https://storage.googleapis.com/basenji_tutorial_data/hg19.ml.fa', shell=True)\n",
    " "
   ]
  },
  {
   "cell_type": "code",
   "execution_count": null,
   "id": "96c979f4",
   "metadata": {},
   "outputs": [],
   "source": []
  }
 ],
 "metadata": {
  "kernelspec": {
   "display_name": "Python 3 (ipykernel)",
   "language": "python",
   "name": "python3"
  },
  "language_info": {
   "codemirror_mode": {
    "name": "ipython",
    "version": 3
   },
   "file_extension": ".py",
   "mimetype": "text/x-python",
   "name": "python",
   "nbconvert_exporter": "python",
   "pygments_lexer": "ipython3",
   "version": "3.9.7"
  }
 },
 "nbformat": 4,
 "nbformat_minor": 5
}
