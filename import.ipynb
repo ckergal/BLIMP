{
 "cells": [
  {
   "cell_type": "markdown",
   "id": "f62adc6d",
   "metadata": {},
   "source": [
    "# Import prediction models\n",
    "\n"
   ]
  },
  {
   "cell_type": "markdown",
   "id": "329c9b64",
   "metadata": {},
   "source": [
    "Prediction models files are too big to be on Github. You can find them here :"
   ]
  },
  {
   "cell_type": "code",
   "execution_count": null,
   "id": "acd1111f",
   "metadata": {},
   "outputs": [],
   "source": [
    "import os, subprocess\n",
    "\n",
    "if not os.path.isfile('BLIMP/input_data/models/cf4_pred_model.h5'):\n",
    "    subprocess.call('curl -o BLIMP/manuscript/input_data/models/cf4_pred_model.h5 http://tools.genouest.org/data/tderrien/cf4_pred_model.h5', shell=True)\n",
    "\n",
    "if not os.path.isfile('BLIMP/input_data/models/cf4_pred_model.h5'):\n",
    "    subprocess.call('curl -o BLIMP/manuscript/input_data/models/cf3_pred_model.h5 http://tools.genouest.org/data/tderrien/cf3_pred_model.h5', shell=True)\n",
    " "
   ]
  }
 ],
 "metadata": {
  "kernelspec": {
   "display_name": "Python 3 (ipykernel)",
   "language": "python",
   "name": "python3"
  },
  "language_info": {
   "codemirror_mode": {
    "name": "ipython",
    "version": 3
   },
   "file_extension": ".py",
   "mimetype": "text/x-python",
   "name": "python",
   "nbconvert_exporter": "python",
   "pygments_lexer": "ipython3",
   "version": "3.9.7"
  }
 },
 "nbformat": 4,
 "nbformat_minor": 5
}
